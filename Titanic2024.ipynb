{
  "nbformat": 4,
  "nbformat_minor": 0,
  "metadata": {
    "colab": {
      "provenance": [],
      "history_visible": true,
      "mount_file_id": "1eUsCwIzhPhfHjEm_4DEj76JvqlNgk9it",
      "authorship_tag": "ABX9TyPBlErdFz30HD30cX3E5Fgo",
      "include_colab_link": true
    },
    "kernelspec": {
      "name": "python3",
      "display_name": "Python 3"
    },
    "language_info": {
      "name": "python"
    }
  },
  "cells": [
    {
      "cell_type": "markdown",
      "metadata": {
        "id": "view-in-github",
        "colab_type": "text"
      },
      "source": [
        "<a href=\"https://colab.research.google.com/github/lindaperez/2024_KaggleGettingStarted/blob/main/Titanic2024.ipynb\" target=\"_parent\"><img src=\"https://colab.research.google.com/assets/colab-badge.svg\" alt=\"Open In Colab\"/></a>"
      ]
    },
    {
      "cell_type": "markdown",
      "source": [
        "The objective of the analysis is to predict who is more likely to survive and who is not in a shipwreck similar to Titanic, based on the variables about the tripulants."
      ],
      "metadata": {
        "id": "yCJjaeZn1lcN"
      }
    },
    {
      "cell_type": "markdown",
      "source": [
        "- Is there any relationship betweeen age and another variable like class\n",
        "- Is there anyt relationship with cabin and another variable\n",
        "- is there any association between the class,name, ticket fair, embarked, etc and the likelyhood of surving"
      ],
      "metadata": {
        "id": "zhEXC3K8g1zK"
      }
    },
    {
      "cell_type": "code",
      "source": [
        "#imports\n",
        "import pandas as pd # Manipulation Analysis and Exploration\n",
        "from IPython.display import display # Display the data\n",
        "from sklearn.preprocessing import LabelEncoder #Change categorical variables into numerical variables\n",
        "import matplotlib.pyplot as plt  #visualizations\n",
        "from google.colab import drive #Google drive mounting\n",
        "import numpy as np\n",
        "from collections import defaultdict\n",
        "import seaborn as sns\n",
        "#paths\n",
        "\n",
        "# Replace 'your_file.csv' with the path to your CSV file\n",
        "train_path = '/content/drive/MyDrive/train.csv'\n",
        "test_path = '/content/drive/MyDrive/test.csv'"
      ],
      "metadata": {
        "id": "eqzCi05B2ipz"
      },
      "execution_count": null,
      "outputs": []
    },
    {
      "cell_type": "markdown",
      "source": [
        "0.- Upload Data into Google Colab Mounting Google Drive."
      ],
      "metadata": {
        "id": "PLAhKDLD3ALO"
      }
    },
    {
      "cell_type": "code",
      "source": [
        "drive.mount('/content/drive')"
      ],
      "metadata": {
        "id": "q73IMipg3tC9"
      },
      "execution_count": null,
      "outputs": []
    },
    {
      "cell_type": "markdown",
      "source": [
        "##Overview of the Data\n",
        "It is importan to see the amount of data that we are going to work with, types and missing values to have an idea about our next steps to analyze it.\n",
        "\n",
        "* Shape\n",
        "* Data Types\n",
        "* Missing Values/ NAs"
      ],
      "metadata": {
        "id": "suomiXob2Bmf"
      }
    },
    {
      "cell_type": "code",
      "source": [
        "# Read the CSV file into a DataFrame\n",
        "raw_train_df = pd.read_csv(train_path)\n",
        "\n",
        "# Display the DataFrame as a table\n",
        "display(raw_train_df)"
      ],
      "metadata": {
        "id": "ddGGqZqb2SYH"
      },
      "execution_count": null,
      "outputs": []
    },
    {
      "cell_type": "code",
      "source": [
        "# Print the shape\n",
        "print(\"Number of rows:\", raw_train_df.shape[0])\n",
        "print(\"Number of columns:\", raw_train_df.shape[1])\n"
      ],
      "metadata": {
        "id": "_EHTj6Cs6CXe"
      },
      "execution_count": null,
      "outputs": []
    },
    {
      "cell_type": "markdown",
      "source": [
        "1.- Lets check the data type of each column:"
      ],
      "metadata": {
        "id": "QMzbM0KrF5x5"
      }
    },
    {
      "cell_type": "code",
      "source": [
        "# Check the data types of each column\n",
        "data_types = raw_train_df.dtypes\n",
        "\n",
        "# Print the data types of each column\n",
        "print(\"Data types of each column:\")\n",
        "print(data_types)"
      ],
      "metadata": {
        "id": "QKgEap7gER8D"
      },
      "execution_count": null,
      "outputs": []
    },
    {
      "cell_type": "markdown",
      "source": [
        "Notes:\n",
        "- Changing the datatypes can help of to remove inconsistencies like for example a name filled with a number.\n",
        "- Generate statistics about survivors, pclasses , sex, gender\n",
        "- Ticket, will be interesting to separate the numbers from ticket's strings for patterns.\n"
      ],
      "metadata": {
        "id": "ugTr8nFL0SYU"
      }
    },
    {
      "cell_type": "code",
      "source": [
        "# Convert 'name' column to string if it contains only string values\n",
        "if raw_train_df['Name'].apply(lambda x: isinstance(x, str)).all():\n",
        "    raw_train_df['Name'] = raw_train_df['Name'].astype(str)\n",
        "else:\n",
        "    print(\"Warning: 'name' column contains non-string values and cannot be converted.\")\n",
        "# Convert Sex to int64 where male is 1 and female is 0\n",
        "raw_train_df['Sex'] = raw_train_df['Sex'].replace({'female': 0, 'male': 1})\n",
        "# Check the data types after conversion\n",
        "print(\"\\nAfter conversion:\")\n",
        "print(raw_train_df.dtypes)"
      ],
      "metadata": {
        "id": "DHEmOvA3ED6l"
      },
      "execution_count": null,
      "outputs": []
    },
    {
      "cell_type": "markdown",
      "source": [
        "2.- Checking for Missing Values\n",
        "- Nulls/Empty\n",
        "- NAs"
      ],
      "metadata": {
        "id": "32dJmHSI6oOD"
      }
    },
    {
      "cell_type": "code",
      "source": [
        "# Identify missing values\n",
        "missing_values = raw_train_df.isnull().sum()\n",
        "# Find the count of missing values (NaNs) in each column\n",
        "missing_values_per_column = raw_train_df.isna().sum()\n",
        "\n",
        "# Print the number of missing values in each column\n",
        "print(\"Missing values in each column:\")\n",
        "print(missing_values)\n",
        "\n",
        "# Print the count of missing values (NaNs) in each column\n",
        "print(\"Missing values (NaNs) in each column:\")\n",
        "print(missing_values_per_column)"
      ],
      "metadata": {
        "id": "gjuzYMZr6un1"
      },
      "execution_count": null,
      "outputs": []
    },
    {
      "cell_type": "markdown",
      "source": [
        "Notes:\n",
        "- Age 20% Nulls\n",
        "- Cabin 80% Nulls"
      ],
      "metadata": {
        "id": "YXlMp7kC1Czg"
      }
    },
    {
      "cell_type": "markdown",
      "source": [
        "Lets check embarked missing values\n"
      ],
      "metadata": {
        "id": "6QVTDQB0IFxs"
      }
    },
    {
      "cell_type": "code",
      "source": [
        "raw_train_df[raw_train_df['Embarked'].isnull()==True]\n",
        "# Assuming 'df' is your DataFrame containing the 'Cabin' column\n",
        "\n",
        "# Filter the DataFrame\n",
        "filtered = raw_train_df[raw_train_df['Cabin'].notna() & raw_train_df['Cabin'].str.startswith('B')]\n",
        "# Assuming 'data' is your DataFrame and 'Embarked' is the column of interest\n",
        "embarked_counts = filtered['Embarked'].value_counts()\n",
        "\n",
        "# Plotting the bar plot\n",
        "embarked_counts.plot(kind='bar', color='skyblue')\n",
        "plt.title('Count of Passengers by Embarked Port')\n",
        "plt.xlabel('Embarked Port')\n",
        "plt.ylabel('Count')\n",
        "plt.xticks(rotation=0)  # Rotate x-axis labels if needed\n",
        "plt.grid(axis='y', linestyle='--', alpha=0.7)  # Add horizontal grid lines\n",
        "plt.tight_layout()  # Adjust layout to prevent clipping of labels\n",
        "plt.show()\n",
        "raw_train_df[raw_train_df['Embarked'].isnull()==True]['Embarked'].replace({np.NAN: 'S'})\n",
        "raw_train_df.loc[raw_train_df['Embarked'].isnull(), 'Embarked'] = 'S'\n",
        "raw_train_df[raw_train_df['Embarked'].isnull()==True]\n",
        "#raw_train_df.isna().sum()"
      ],
      "metadata": {
        "id": "pFLC18r9IIKA"
      },
      "execution_count": null,
      "outputs": []
    },
    {
      "cell_type": "markdown",
      "source": [
        "### Univariate Analysis"
      ],
      "metadata": {
        "id": "rDxa3HBvhPBz"
      }
    },
    {
      "cell_type": "markdown",
      "source": [
        "Variables of Interests:\n",
        "- No. PassengerId       int64   Discrete\n",
        "- Target. Survived      int64.  Cat - Binary\n",
        "- Yes. Pclass           int64.  Cat - Ordinal\n",
        "- Yes. Name            object.  Cat - Nominal\n",
        "- Yes. Sex             object.  Cat - Nominal\n",
        "- Yes. Age            float64.  Num - Continuous\n",
        "- Yes. SibSp            int64.  Num - Discrete\n",
        "- Yes. Parch            int64.  Num - Discrete\n",
        "- Yes. Ticket          object.  Cat - Nominal\n",
        "- Yes. Fare           float64.  Num - Continuous\n",
        "- Yes. Cabin           object.  Cat - Nominal\n",
        "- Yes. Embarked        object.  Cat - Nominal"
      ],
      "metadata": {
        "id": "ZuCGpz-8hYHi"
      }
    },
    {
      "cell_type": "markdown",
      "source": [
        "1.- Central Tendency, Dispersion and Shape for numerical variables."
      ],
      "metadata": {
        "id": "5b4QiPycXbLT"
      }
    },
    {
      "cell_type": "code",
      "source": [
        "# Specify the numerical variables you want to include\n",
        "numerical_variables = [ 'Age','SibSp','Parch','Fare']\n",
        "\n",
        "# Calculate summary statistics for specific numerical variables\n",
        "summary_statistics_specific = raw_train_df[numerical_variables].describe()\n",
        "\n",
        "# Print the summary statistics for specific numerical variables\n",
        "print(summary_statistics_specific)\n"
      ],
      "metadata": {
        "id": "XqZ3p-BUkEfN"
      },
      "execution_count": null,
      "outputs": []
    },
    {
      "cell_type": "markdown",
      "source": [
        "* **Ages**:  There are 714 non-null observation which represent the 80%. The mean of ages is around 29.7 years old. The youngest passager is 0.42 (infant), the oldest passager is 80 years old. The median age (50% percentile) is 28 years meaning that half of the passengers are younger than 28 years and half are older. The interquartile range (IQR) is approximately 18.9 years, indicating that half of the individuals are between approximately 20.1 years and 38 years old. And 97% of the observations are between 0-60 years.\n",
        "\n",
        "* **Siblings and Sposes (SibSp)** The dataset defines family relations {Sibling : brother, sister, stepbrother, stepsister, Spouse : husband, wife (mistresses and fiancés were ignored}. 100% of the observations are present with an average of 0.52 siblings/sposes aboard. The maximun number of sibling/spose aboard for a passenger is 8. 50% of the passangers does not have any sibling/spose aboard and 75% of the passengers travel with one spose/sibling aboard. 97% of the passengers are between 0-3 sposes/siblings.A potential left skewed distribution since the variability is high.\n",
        "\n",
        "* **Parents and Children (Parch):** there are also 891 non-null observations, with an average of approximately 0.38 parents/children aboard. The maximum number of parents/children aboard for a passenger is 6. 75% of the passengers does not have any parents/children aboard. 97% of the passengers are between 0-1.92 sposes/siblings.A potential left skewed distribution since the variability is high.\n",
        "\n",
        "* **Passenger Fare:** 100% observations are present, with an average fare of approximately 32.20. The fare varies widely, ranging from 0 to 512.33, with the median fare being 14.45. The average fare paid by passengers is approximately 32.20, with a standard deviation of approximately $49.69, indicating significant variability in fare prices. The minimum fare is 0.00, indicating that some passengers may have traveled for free or received complementary tickets. The maximum fare is 512.33, suggesting that some passengers paid significantly more for premium accommodations or special services. 75% of the passengers pay less than 31 for each ticket. A potential left skewed distribution the spread of the data is wide."
      ],
      "metadata": {
        "id": "2Fy1nW8CrsqM"
      }
    },
    {
      "cell_type": "markdown",
      "source": [
        "\n",
        "1.1.- Central Tendency, Dispersion and Shape Visualization\n",
        "\n",
        "* Histogram: Displays the distribution of values.\n",
        "* Box plot: Illustrates the central tendency, variability, and potential outliers.\n",
        "* Density plot: Shows the probability density of the data over a continuous interval.\n",
        "* QQ plot: Compares the distribution of the data to a theoretical distribution (e.g., normal distribution)."
      ],
      "metadata": {
        "id": "7wc_1DvX2a7w"
      }
    },
    {
      "cell_type": "code",
      "source": [
        "# List of numerical variables\n",
        "numerical_variables = ['Age', 'SibSp', 'Parch', 'Fare']\n",
        "\n",
        "# Create a figure with a subplot grid\n",
        "fig, axes = plt.subplots(2, 4, figsize=(20, 5))\n",
        "\n",
        "# Iterate over each numerical variable\n",
        "for i, column in enumerate(numerical_variables):\n",
        "    numeric_values = pd.to_numeric(raw_train_df[column], errors='coerce').dropna()\n",
        "\n",
        "     # Calculate lower bound and upper bound\n",
        "    Q1 = numeric_values.quantile(0.25)\n",
        "    Q3 = numeric_values.quantile(0.75)\n",
        "    IQR = Q3 - Q1\n",
        "    lower_bound = Q1 - 1.5 * IQR\n",
        "    upper_bound = Q3 + 1.5 * IQR\n",
        "\n",
        "    # Add box plot to the subplot in the first row\n",
        "    sns.boxplot(x=raw_train_df[column], ax=axes[0, i])\n",
        "    axes[0, i].set_title(f'Box Plot of {column}')\n",
        "    axes[0, i].set_xlabel('')\n",
        "    axes[0, i].set_ylabel('Values')\n",
        "\n",
        "    # Plot vertical lines for lower bound and upper bound\n",
        "    axes[0, i].axvline(lower_bound, color='red', linestyle='dashed', linewidth=1, label=f'Lower Bound: {lower_bound:.1f}')\n",
        "    axes[0, i].axvline(upper_bound, color='green', linestyle='dashed', linewidth=1, label=f'Upper Bound: {upper_bound:.1f}')\n",
        "\n",
        "    # Add legend to the box plot\n",
        "    axes[0, i].legend()\n",
        "\n",
        "    # Add histogram with distribution plot to the subplot in the second row\n",
        "    sns.histplot(raw_train_df[column], kde=True, color='skyblue', bins=9, ax=axes[1, i])\n",
        "    axes[1, i].set_title(f'Histogram of {column}')\n",
        "    axes[1, i].set_xlabel(column)\n",
        "    axes[1, i].set_ylabel('Frequency')\n",
        "\n",
        "    # Calculate mean, median, mode, and standard deviation\n",
        "    mean_ = raw_train_df[column].mean()\n",
        "    median_ = raw_train_df[column].median()\n",
        "    mode_ = raw_train_df[column].mode().values[0]\n",
        "    std_ = raw_train_df[column].std()\n",
        "\n",
        "    # Plot vertical lines for mean, median, mode, and standard deviation on the histogram subplot\n",
        "    axes[1, i].axvline(mean_, color='red', linestyle='dashed', linewidth=1, label=f'Mean: {mean_:.1f}')\n",
        "    axes[1, i].axvline(median_, color='green', linestyle='dashed', linewidth=1, label=f'Median: {median_:.1f}')\n",
        "    axes[1, i].axvline(mode_, color='orange', linestyle='dashed', linewidth=1, label=f'Mode: {mode_:.1f}')\n",
        "    axes[1, i].axvline(mean_ + std_, color='blue', linestyle='solid', linewidth=1, label=f'Std: {std_:.1f}')\n",
        "    axes[1, i].axvline(mean_ - std_, color='blue', linestyle='solid', linewidth=1)\n",
        "\n",
        "    # Add legend to the histogram subplot\n",
        "    axes[1, i].legend()\n",
        "\n",
        "# Adjust layout\n",
        "plt.tight_layout()\n",
        "\n",
        "# Show the plot\n",
        "plt.show()\n"
      ],
      "metadata": {
        "id": "zODW3-r02deN"
      },
      "execution_count": null,
      "outputs": []
    },
    {
      "cell_type": "markdown",
      "source": [
        "* **Ages**:  The distribution appears slightly right-skewed, as the tail extends more to the right, but the skewness is relatively small.\n",
        "The kurtosis value suggests that the distribution has moderate tails compared to a normal distribution, indicating some outliers or heavier tails.There are some outliers with values above 65 older than the majority of passengers.\n",
        "\n",
        "* **Siblings and Sposes (SibSp)** The distribution is positively skewed with a long tail towards higher values.The presence of positive skewness suggests that there were relatively few passengers with a larger number of siblings/spouses which families traveling together. Additionally, there are some outliers with values above 2, which represent individuals with a larger number of siblings/spouses than the majority of passengers.\n",
        "\n",
        "* **Parents and Children (Parch):** The distribution positively skewed with a long tail towards higher values.The presence of positive skewness suggests that there were relatively few passengers with a larger number of parents/children, potentially indicating families traveling together. The range of the variable spans from 0 to 6, with an interquartile range of 0 to 0, indicating that most passengers had few or no parents/children aboard. Additionally, there are some outliers with values above 2, which represent individuals with a larger number of parents/children than the majority of passengers.\"\n",
        "\n",
        "* **Passenger Fare:** The distribution has Positive skewness, a longer tail to the right towards higher values. The distribution of fares is likely positively skewed, as indicated by the difference between the mean ($32.20) and the median ($14.45). A positive skew suggests that there are relatively few passengers who paid very high fares, which pull the mean upwards, resulting in a higher mean than median."
      ],
      "metadata": {
        "id": "3mi_yQENMAks"
      }
    },
    {
      "cell_type": "markdown",
      "source": [
        "2.- Frequencies and proporsion for categoricals\n",
        "* Survived\n",
        "* Pclass\n",
        "* Sex\n",
        "* Embarked\n",
        "* Cabin\n",
        "* Ticket"
      ],
      "metadata": {
        "id": "CD3cYKngj3g_"
      }
    },
    {
      "cell_type": "code",
      "source": [
        "results = pd.DataFrame()\n",
        "\n",
        "# Iterate over each column in the DataFrame\n",
        "for column in raw_train_df.columns:\n",
        "    if column not in numerical_variables and column not in {'PassengerId','Name','Ticket', 'Cabin'}:\n",
        "\n",
        "      # Calculate frequencies and proportions for the column\n",
        "      frequencies = raw_train_df[column].value_counts()\n",
        "      proportions = raw_train_df[column].value_counts(normalize=True)\n",
        "\n",
        "      # Concatenate frequencies and proportions into a single DataFrame\n",
        "      result = pd.concat([frequencies, proportions], axis=1)\n",
        "      result.columns = ['Frequency', 'Proportion']\n",
        "\n",
        "      # Add a column for the column name\n",
        "      result['Column'] = column\n",
        "\n",
        "      # Reset the index to make categories as a column\n",
        "      result.reset_index(inplace=True)\n",
        "      result.rename(columns={'index': 'Category'}, inplace=True)\n",
        "\n",
        "      # Append the results to the main DataFrame\n",
        "      results = pd.concat([results, result], ignore_index=True)\n",
        "\n",
        "# Display the results DataFrame\n",
        "display(results)"
      ],
      "metadata": {
        "id": "H6Qi7PndzfSg"
      },
      "execution_count": null,
      "outputs": []
    },
    {
      "cell_type": "code",
      "source": [
        "# Set up subplots\n",
        "fig, axes = plt.subplots(1, 4, figsize=(24, 6))  # Adjusted figsize to fit all plots in one row\n",
        "\n",
        "# Define color palette\n",
        "colors = sns.color_palette('pastel')\n",
        "\n",
        "# Pie Chart for 'Survived'\n",
        "category_counts_survived = raw_train_df['Survived'].value_counts()\n",
        "axes[0].pie(category_counts_survived, labels=['No', 'Yes'], autopct='%1.1f%%', startangle=140, colors=colors)\n",
        "axes[0].set_title('Passengers Survived')\n",
        "axes[0].legend(title='Survived', loc='upper right')\n",
        "\n",
        "# Bar Plot for 'Sex'\n",
        "sns.countplot(data=raw_train_df, x='Sex', hue='Sex', ax=axes[1], palette='pastel', legend=False)\n",
        "axes[1].set_xlabel('Gender')\n",
        "axes[1].set_ylabel('Frequency')\n",
        "axes[1].set_title('Gender Proportion')\n",
        "total = len(raw_train_df['Sex'])\n",
        "for p in axes[1].patches:\n",
        "    height = p.get_height()\n",
        "    axes[1].text(p.get_x() + p.get_width() / 2., height + 0.2, '{:.1f}%'.format((height / total) * 100), ha=\"center\")\n",
        "\n",
        "# Change 'Embarked' labels\n",
        "raw_train_df['Embarked'] = raw_train_df['Embarked'].replace({'C': 'Cherbourg', 'Q': 'Queenstown', 'S': 'Southampton'})\n",
        "\n",
        "# Count Plot for 'Embarked'\n",
        "sns.countplot(data=raw_train_df, x='Embarked', hue='Embarked', ax=axes[2], palette='pastel', legend=True)\n",
        "axes[2].set_xlabel('Ports')\n",
        "axes[2].set_ylabel('Frequency')\n",
        "axes[2].set_title('Port of Embarked Proportion')\n",
        "total = len(raw_train_df['Embarked'])\n",
        "for p in axes[2].patches:\n",
        "    height = p.get_height()\n",
        "    axes[2].text(p.get_x() + p.get_width() / 2., height + 0.2, '{:.1f}%'.format((height / total) * 100), ha=\"center\")\n",
        "\n",
        "# Donut Chart for 'Pclass'\n",
        "category_counts_pclass = raw_train_df['Pclass'].value_counts()\n",
        "axes[3].pie(category_counts_pclass, labels=['1st', '2nd', '3rd'], autopct='%1.1f%%', startangle=90, wedgeprops=dict(width=0.4), colors=colors)\n",
        "axes[3].set_title('Passenger Classes Proportion')\n",
        "\n",
        "# Create custom legend for 'Pclass' donut chart\n",
        "axes[3].legend(title='Classes', loc='upper right', labels=['1st', '2nd', '3rd'])\n",
        "\n",
        "# Adjust layout\n",
        "plt.tight_layout()\n",
        "\n",
        "# Show the plot\n",
        "plt.show()\n"
      ],
      "metadata": {
        "id": "5n81dexDKi79"
      },
      "execution_count": null,
      "outputs": []
    },
    {
      "cell_type": "markdown",
      "source": [
        "* Survived: 38% of the passengers in the dataset survived the Titanic disaster, while 62% did not. This indicates that a larger proportion of passengers did not survive compared to those who survived.\n",
        "\n",
        "* Gender: 65% of the passengers in the dataset are male, while 35% are female.\n",
        "This suggests that there are more male passengers compared to female passengers in the dataset.\n",
        "\n",
        "* Port of Embark: 72% of the passengers in the dataset embarked from Southampton, 19% from Cherbourg, and 9% for Queenstown.\n",
        "This suggests that there are more passengers that embarked from Southampton than from Cherbourg or Queentown."
      ],
      "metadata": {
        "id": "v44J9K3tXZL4"
      }
    },
    {
      "cell_type": "code",
      "source": [],
      "metadata": {
        "id": "DqRP20DYXVk-"
      },
      "execution_count": null,
      "outputs": []
    },
    {
      "cell_type": "code",
      "source": [
        "raw_train_df['Cabin'] = raw_train_df['Cabin'].astype(str)\n",
        "# Initialize an empty dictionary to store token frequencies\n",
        "token_freq = defaultdict(int)\n",
        "\n",
        "# Iterate over each value in the column\n",
        "for value in raw_train_df['Cabin']:\n",
        "    # Split the value by space\n",
        "      tokens = value.split()\n",
        "      # Count the frequency of each token\n",
        "      for token in tokens:\n",
        "          token_freq[token] = token_freq.get(token, 0) + 1\n",
        "\n",
        "# Convert the dictionary to a set\n",
        "token_set = set(token_freq.items())\n",
        "# Assuming df is your DataFrame and 'cabin' is the column containing token frequencies\n",
        "token_freq_series = pd.Series(token_freq)\n",
        "cabin_token_freq = token_freq_series.value_counts()\n",
        "\n",
        "\n",
        "# Assuming token_freq_series is your Series containing token frequencies\n",
        "plt.figure(figsize=(5, 3))\n",
        "\n",
        "\n",
        "# Create subplot for the histogram\n",
        "plt.subplot(1, 2, 2)\n",
        "sns.histplot(token_freq_series, kde=True, color='skyblue')\n",
        "plt.title('Histogram of Token Frequencies')\n",
        "\n",
        "plt.tight_layout()  # Adjust layout to prevent overlapping\n",
        "plt.show()"
      ],
      "metadata": {
        "id": "gcSCxvPTYcU2"
      },
      "execution_count": null,
      "outputs": []
    },
    {
      "cell_type": "markdown",
      "source": [
        "#Bivariate Analysis"
      ],
      "metadata": {
        "id": "-_ql2JjeRv72"
      }
    },
    {
      "cell_type": "markdown",
      "source": [
        "##Survived by sex, age, pclass, embarked"
      ],
      "metadata": {
        "id": "kmvfDOhZRybz"
      }
    },
    {
      "cell_type": "code",
      "source": [
        "# Set the style of seaborn\n",
        "sns.set(style=\"whitegrid\")\n",
        "\n",
        "# Create subplots\n",
        "fig, axes = plt.subplots(1, 3, figsize=(18, 6))\n",
        "\n",
        "# Plot for survival count by gender\n",
        "sns.countplot(data=raw_train_df, x='Survived', hue='Sex', palette='Set1', ax=axes[0])\n",
        "axes[0].set_title('Survival Count by Gender')\n",
        "axes[0].set_xlabel('Survived')\n",
        "axes[0].set_ylabel('Count')\n",
        "axes[0].set_xticks([0, 1])\n",
        "axes[0].set_xticklabels(['No', 'Yes'])\n",
        "axes[0].legend(title='Sex')\n",
        "\n",
        "# Plot for survival count by passenger class\n",
        "sns.countplot(data=raw_train_df, x='Survived', hue='Pclass', palette='Set2', ax=axes[1])\n",
        "axes[1].set_title('Survival Count by Passenger Class')\n",
        "axes[1].set_xlabel('Survived')\n",
        "axes[1].set_ylabel('Count')\n",
        "axes[1].set_xticks([0, 1])\n",
        "axes[1].set_xticklabels(['No', 'Yes'])\n",
        "axes[1].legend(title='Pclass')\n",
        "\n",
        "# Plot for survival count by embarked port\n",
        "sns.countplot(data=raw_train_df, x='Survived', hue='Embarked', palette='Set3', ax=axes[2])\n",
        "axes[2].set_title('Survival Count by Embarked Port')\n",
        "axes[2].set_xlabel('Survived')\n",
        "axes[2].set_ylabel('Count')\n",
        "axes[2].set_xticks([0, 1])\n",
        "axes[2].set_xticklabels(['No', 'Yes'])\n",
        "axes[2].legend(title='Embarked')\n",
        "\n",
        "# Adjust layout\n",
        "plt.tight_layout()\n",
        "\n",
        "# Show the plots\n",
        "plt.show()\n"
      ],
      "metadata": {
        "id": "r_h5ZHhOJHIM"
      },
      "execution_count": null,
      "outputs": []
    },
    {
      "cell_type": "markdown",
      "source": [
        ""
      ],
      "metadata": {
        "id": "xCsFyTzTQxTw"
      }
    },
    {
      "cell_type": "code",
      "source": [
        "# Define the mapping for survival labels\n",
        "#survival_mapping = {0: 'No', 1: 'Yes'}\n",
        "\n",
        "# Map survival labels in the DataFrame\n",
        "#raw_train_df['Survived'] = raw_train_df['Survived'].map(survival_mapping)\n",
        "\n",
        "# Calculate survival rates by gender\n",
        "survival_rate_gender = raw_train_df.groupby(['Sex', 'Survived']).size().unstack()\n",
        "survival_rate_gender = survival_rate_gender.div(survival_rate_gender.sum(axis=1), axis=0) * 100\n",
        "\n",
        "# Calculate survival rates by passenger class\n",
        "survival_rate_class = raw_train_df.groupby(['Pclass', 'Survived']).size().unstack()\n",
        "survival_rate_class = survival_rate_class.div(survival_rate_class.sum(axis=1), axis=0) * 100\n",
        "\n",
        "# Calculate survival rates by embarked port\n",
        "survival_rate_embarked = raw_train_df.groupby(['Embarked', 'Survived']).size().unstack()\n",
        "survival_rate_embarked = survival_rate_embarked.div(survival_rate_embarked.sum(axis=1), axis=0) * 100\n",
        "\n",
        "# Create subplots\n",
        "fig, axes = plt.subplots(1, 3, figsize=(18, 6))\n",
        "\n",
        "# Plot survival rates by gender\n",
        "survival_rate_gender.plot(kind='bar', stacked=True, ax=axes[0], colormap='Set1')\n",
        "axes[0].set_title('Survival Rate by Gender')\n",
        "axes[0].set_xlabel('Gender')\n",
        "axes[0].set_ylabel('Proportion (%)')\n",
        "\n",
        "# Plot survival rates by passenger class\n",
        "survival_rate_class.plot(kind='bar', stacked=True, ax=axes[1], colormap='Set2')\n",
        "axes[1].set_title('Survival Rate by Passenger Class')\n",
        "axes[1].set_xlabel('Passenger Class')\n",
        "axes[1].set_ylabel('Proportion (%)')\n",
        "\n",
        "# Plot survival rates by embarked port\n",
        "survival_rate_embarked.plot(kind='bar', stacked=True, ax=axes[2], colormap='Set3')\n",
        "axes[2].set_title('Survival Rate by Embarked Port')\n",
        "axes[2].set_xlabel('Embarked Port')\n",
        "axes[2].set_ylabel('Proportion (%)')\n",
        "\n",
        "# Adjust layout\n",
        "plt.tight_layout()\n",
        "\n",
        "# Show the plots\n",
        "plt.show()\n"
      ],
      "metadata": {
        "id": "6GkNUFLMJKaE"
      },
      "execution_count": null,
      "outputs": []
    },
    {
      "cell_type": "markdown",
      "source": [
        "* Woman had prevalence to survive 74% of woman survived, while only 19% of man could stay alive.  \n",
        "\n",
        "* The higher the class the highest the possibility to survive. 63% of the passengers could survive from class 1, while 48% could stay alive from class 2 and only 24% could prevail.\n",
        "\n",
        "* Cherbourg 55% had more tendency for people to stay alive while\n",
        "Queenstown 39% and Southampton 34% did have the same chance."
      ],
      "metadata": {
        "id": "D6_ADA--TLB0"
      }
    },
    {
      "cell_type": "markdown",
      "source": [
        "##Survival per number of cabin per passenger"
      ],
      "metadata": {
        "id": "ckScD2OiSxgi"
      }
    },
    {
      "cell_type": "code",
      "source": [
        "import pandas as pd\n",
        "\n",
        "# Split the 'Cabin' values by space and calculate the number of cabins\n",
        "raw_train_df['NumCabins'] = raw_train_df['Cabin'].apply(lambda x: len(str(x).split()))\n",
        "display(raw_train_df)\n",
        "\n",
        "\n",
        "# Calculate survival rates by NumCabins\n",
        "survival_rate_NumCabins = raw_train_df.groupby(['NumCabins', 'Survived']).size().unstack()\n",
        "survival_rate_NumCabins = survival_rate_NumCabins.div(survival_rate_NumCabins.sum(axis=1), axis=0) * 100\n",
        "\n",
        "# Create subplots\n",
        "fig, axe = plt.subplots(1,figsize=(5, 3))\n",
        "\n",
        "# Plot survival rates by NumCabins\n",
        "survival_rate_NumCabins.plot(kind='bar', stacked=True, ax=axe, colormap='Set2')\n",
        "axe.set_title('Survival Rate by Number of Cabins')\n",
        "axe.set_xlabel('NumCabins')\n",
        "axe.set_ylabel('Proportion (%)')\n",
        "\n",
        "\n",
        "# Adjust layout\n",
        "plt.tight_layout()\n",
        "\n",
        "# Show the plots\n",
        "plt.show()\n"
      ],
      "metadata": {
        "id": "Dl1U3HW3JPKU"
      },
      "execution_count": null,
      "outputs": []
    },
    {
      "cell_type": "markdown",
      "source": [],
      "metadata": {
        "id": "jYAm5b_QJL9v"
      }
    },
    {
      "cell_type": "markdown",
      "source": [
        "## For A future and deepest understanding"
      ],
      "metadata": {
        "id": "DCOx3cAhokQ8"
      }
    },
    {
      "cell_type": "markdown",
      "source": [
        " We can explore separating Tickets, Cabins, Names, Aliases, Generating a graph of people where they are connected by Tickets or Cabin to see deepest patterns."
      ],
      "metadata": {
        "id": "mPcftfOdo4x9"
      }
    },
    {
      "cell_type": "code",
      "source": [
        "train_df= raw_train_df"
      ],
      "metadata": {
        "id": "JUg98avwgpXb"
      },
      "execution_count": null,
      "outputs": []
    },
    {
      "cell_type": "markdown",
      "source": [
        "Separate Ticket numbers from other characters."
      ],
      "metadata": {
        "id": "dpZAdNq7XhsM"
      }
    },
    {
      "cell_type": "code",
      "source": [
        "left_list = []\n",
        "right_list = []\n",
        "for e in train_df['Ticket']:\n",
        "  tokens = e.rsplit()\n",
        "  left_list.append(' '.join(tokens[0:-1]))\n",
        "  right_list.append(tokens[-1])\n",
        "train_df['Ticket Number'] = right_list\n",
        "train_df['Ticket Precode'] = left_list\n",
        "# Display the resulting DataFrame\n",
        "display(train_df)"
      ],
      "metadata": {
        "id": "eXar_m5alg1D"
      },
      "execution_count": null,
      "outputs": []
    },
    {
      "cell_type": "code",
      "source": [
        "plt.figure(figsize=(16, 7))  # Adjust the figure size as needed\n",
        "\n",
        "# Plot for Ticket Number\n",
        "plt.subplot(1, 2, 1)  # Create a subplot with 1 row and 2 columns, select the first subplot\n",
        "sns.countplot(data=train_df, x='Ticket Number', hue='Ticket Number', palette='Set1', legend=False)  # Adjust palette as needed\n",
        "plt.xlabel('Ticket Number')\n",
        "plt.ylabel('Frequency')\n",
        "plt.title('Frequency of Ticket Number')\n",
        "plt.xticks(rotation=45)  # Rotate x-axis labels for better readability\n",
        "\n",
        "# Plot for Ticket Prefix\n",
        "plt.subplot(1, 2, 2)  # Select the second subplot\n",
        "sns.countplot(data=train_df, x='Ticket Precode', hue='Ticket Precode', palette='Set2', legend=False)  # Adjust palette as needed\n",
        "plt.xlabel('Ticket Prefix')\n",
        "plt.ylabel('Frequency')\n",
        "plt.title('Frequency of Ticket Prefix')\n",
        "plt.xticks(rotation=45)  # Rotate x-axis labels for better readability\n",
        "\n",
        "plt.tight_layout()  # Adjust layout to prevent clipping of labels\n",
        "plt.show()\n"
      ],
      "metadata": {
        "id": "K4uNpkBGdMAv"
      },
      "execution_count": null,
      "outputs": []
    },
    {
      "cell_type": "code",
      "source": [
        "import pandas as pd\n",
        "\n",
        "# Calculate survival rate\n",
        "survival_rate = train_df.groupby(['Ticket Precode', 'Survived']).size().unstack(fill_value=0)\n",
        "survival_rate['Survival Rate'] = survival_rate[1] / (survival_rate[0] + survival_rate[1])\n",
        "\n",
        "# Print the survival rate table\n",
        "#print(\"Survival Rate by Ticket Precode:\")\n",
        "#print(survival_rate)\n"
      ],
      "metadata": {
        "id": "0eCWchZ0ih5B"
      },
      "execution_count": null,
      "outputs": []
    },
    {
      "cell_type": "markdown",
      "source": [
        "Separate cabin number from cabin letter"
      ],
      "metadata": {
        "id": "nejGzMXFma31"
      }
    },
    {
      "cell_type": "code",
      "source": [
        "import pandas as pd\n",
        "# Split the elements in 'Column1' and generate two new columns\n",
        "train_df[['Cabin Letter', 'Cabin Number']] = train_df['Cabin'].str.extract(r'([A-Za-z]+)?(\\d+)?', expand=True)"
      ],
      "metadata": {
        "id": "GKrE6CZUuijx"
      },
      "execution_count": null,
      "outputs": []
    },
    {
      "cell_type": "code",
      "source": [
        "# Condition 1: Column1 is not null and either Column2 or Column3 is not null\n",
        "condition1 = ((train_df['Cabin'].isnull() &\n",
        "               (train_df['Cabin Letter'].notnull() |\n",
        "                train_df['Cabin Number'].notnull())) |\n",
        "               (train_df['Cabin'].notnull() &\n",
        "                (train_df['Cabin Letter'].isnull() &\n",
        "                 train_df['Cabin Number'].isnull())))\n",
        "result1 = train_df[condition1]\n"
      ],
      "metadata": {
        "id": "0mTutPAKxL6U"
      },
      "execution_count": null,
      "outputs": []
    },
    {
      "cell_type": "code",
      "source": [
        "\n",
        "# Step 3: Group data by cabin letter and calculate total passengers and survivors\n",
        "cabin_survival_counts = train_df.groupby(['Cabin Letter', 'Survived']).size().unstack(fill_value=0)\n",
        "\n",
        "# Calculate the proportions of survivors and non-survivors for each cabin letter\n",
        "cabin_survival_proportions = cabin_survival_counts.div(cabin_survival_counts.sum(axis=1), axis=0)\n",
        "\n",
        "# Sort the cabin letters based on the proportion of survivors\n",
        "sorted_proportions = cabin_survival_proportions.sort_values(by=1, ascending=False)\n",
        "\n",
        "# Create the stacked bar plot\n",
        "plt.figure(figsize=(10, 6))\n",
        "sns.barplot(data=sorted_proportions.reset_index(), x='Cabin Letter', y=0, color='lightgrey', label='Not Survived')\n",
        "sns.barplot(data=sorted_proportions.reset_index(), x='Cabin Letter', y=1, color='skyblue', label='Survived')\n",
        "plt.xlabel('Cabin Letter')\n",
        "plt.ylabel('Proportion')\n",
        "plt.title('Proportion of Survivors and Non-Survivors by Cabin Letter')\n",
        "plt.legend(title='Survival Status')\n",
        "plt.xticks(rotation=0)\n",
        "plt.tight_layout()\n",
        "plt.show()\n",
        "\n"
      ],
      "metadata": {
        "id": "v6tE1EDZwYrU"
      },
      "execution_count": null,
      "outputs": []
    },
    {
      "cell_type": "markdown",
      "source": [
        "How many of the tripulants are Married (Mr,Mrs, Mister)\n"
      ],
      "metadata": {
        "id": "Is0wlT3itsrY"
      }
    },
    {
      "cell_type": "code",
      "source": [
        "filtered_df =train_df[train_df['Age']=='Unknown']\n",
        "filtered_df\n",
        "\n",
        "#items_set={'Mrs','Mister','Mr','Miss','Master','Dr'}\n",
        "items_set={'Miss'}\n",
        "filtered_df = filtered_df[filtered_df['Name'].str.contains('|'.join(items_set), na=False, case=False)]\n",
        "\n",
        "#filtered_df[filtered_df['Cabin'].str.contains('')==True]\n",
        "filtered_df\n",
        "\n",
        "\n"
      ],
      "metadata": {
        "id": "kVq1NqCdueiH"
      },
      "execution_count": null,
      "outputs": []
    },
    {
      "cell_type": "markdown",
      "source": [
        "Note:"
      ],
      "metadata": {
        "id": "0X23VV2eeRcy"
      }
    },
    {
      "cell_type": "code",
      "source": [
        "# Assuming df is your DataFrame\n",
        "train_df.drop(['Name', 'PassengerId', 'Ticket'], axis=1, inplace=True)\n",
        "display(train_df)"
      ],
      "metadata": {
        "id": "yfjIcInOt7_4"
      },
      "execution_count": null,
      "outputs": []
    },
    {
      "cell_type": "markdown",
      "source": [
        "#Feature Engineering\n",
        "Handling missing values"
      ],
      "metadata": {
        "id": "ajsGBkzzoZdW"
      }
    },
    {
      "cell_type": "markdown",
      "source": [
        "###Imputation:\n",
        "- Rows with empty ages filled with median  \n",
        "- Remove Cabin Column\n",
        "- Remove Cabin Number and Cabin LetterIm"
      ],
      "metadata": {
        "id": "yzNGMKKb0EUy"
      }
    },
    {
      "cell_type": "code",
      "source": [
        "# Calculate the median age\n",
        "median_age = train_df['Age'].median()\n",
        "\n",
        "# Fill missing values in the \"Age\" column with the median age\n",
        "train_df['Age'].fillna(median_age, inplace=True)\n",
        "\n",
        "# List of numerical variables\n",
        "numerical_variables = ['Age']\n",
        "\n",
        "# Create a figure with a subplot grid\n",
        "fig, axes = plt.subplots(2, 2, figsize=(20, 5))\n",
        "\n",
        "# Iterate over each numerical variable\n",
        "for i, column in enumerate(numerical_variables):\n",
        "    numeric_values = pd.to_numeric(train_df[column], errors='coerce').dropna()\n",
        "\n",
        "     # Calculate lower bound and upper bound\n",
        "    Q1 = numeric_values.quantile(0.25)\n",
        "    Q3 = numeric_values.quantile(0.75)\n",
        "    IQR = Q3 - Q1\n",
        "    lower_bound = Q1 - 1.5 * IQR\n",
        "    upper_bound = Q3 + 1.5 * IQR\n",
        "\n",
        "    # Add box plot to the subplot in the first row\n",
        "    sns.boxplot(x=train_df[column], ax=axes[0, i])\n",
        "    axes[0, i].set_title(f'Box Plot of {column}')\n",
        "    axes[0, i].set_xlabel('')\n",
        "    axes[0, i].set_ylabel('Values')\n",
        "\n",
        "    # Plot vertical lines for lower bound and upper bound\n",
        "    axes[0, i].axvline(lower_bound, color='red', linestyle='dashed', linewidth=1, label=f'Lower Bound: {lower_bound:.1f}')\n",
        "    axes[0, i].axvline(upper_bound, color='green', linestyle='dashed', linewidth=1, label=f'Upper Bound: {upper_bound:.1f}')\n",
        "\n",
        "    # Add legend to the box plot\n",
        "    axes[0, i].legend()\n",
        "\n",
        "    # Add histogram with distribution plot to the subplot in the second row\n",
        "    sns.histplot(train_df[column], kde=True, color='skyblue', bins=9, ax=axes[1, i])\n",
        "    axes[1, i].set_title(f'Histogram of {column}')\n",
        "    axes[1, i].set_xlabel(column)\n",
        "    axes[1, i].set_ylabel('Frequency')\n",
        "\n",
        "    # Calculate mean, median, mode, and standard deviation\n",
        "    mean_ = train_df[column].mean()\n",
        "    median_ = train_df[column].median()\n",
        "    mode_ = train_df[column].mode().values[0]\n",
        "    std_ = train_df[column].std()\n",
        "\n",
        "    # Plot vertical lines for mean, median, mode, and standard deviation on the histogram subplot\n",
        "    axes[1, i].axvline(mean_, color='red', linestyle='dashed', linewidth=1, label=f'Mean: {mean_:.1f}')\n",
        "    axes[1, i].axvline(median_, color='green', linestyle='dashed', linewidth=1, label=f'Median: {median_:.1f}')\n",
        "    axes[1, i].axvline(mode_, color='orange', linestyle='dashed', linewidth=1, label=f'Mode: {mode_:.1f}')\n",
        "    axes[1, i].axvline(mean_ + std_, color='blue', linestyle='solid', linewidth=1, label=f'Std: {std_:.1f}')\n",
        "    axes[1, i].axvline(mean_ - std_, color='blue', linestyle='solid', linewidth=1)\n",
        "\n",
        "    # Add legend to the histogram subplot\n",
        "    axes[1, i].legend()\n",
        "\n",
        "# Adjust layout\n",
        "plt.tight_layout()\n",
        "\n",
        "# Show the plot\n",
        "plt.show()\n"
      ],
      "metadata": {
        "id": "HzIK8hOksZNH"
      },
      "execution_count": null,
      "outputs": []
    },
    {
      "cell_type": "markdown",
      "source": [
        "Check Cabin null values"
      ],
      "metadata": {
        "id": "wrZ603A2wRIp"
      }
    },
    {
      "cell_type": "code",
      "source": [
        "train_df[train_df['Cabin']!='nan'].mode()\n"
      ],
      "metadata": {
        "id": "311IbGqcwRYH",
        "outputId": "ed8da0fb-5213-4281-aa73-b3a7cef9bb20",
        "colab": {
          "base_uri": "https://localhost:8080/",
          "height": 141
        }
      },
      "execution_count": 1,
      "outputs": [
        {
          "output_type": "error",
          "ename": "NameError",
          "evalue": "name 'train_df' is not defined",
          "traceback": [
            "\u001b[0;31m---------------------------------------------------------------------------\u001b[0m",
            "\u001b[0;31mNameError\u001b[0m                                 Traceback (most recent call last)",
            "\u001b[0;32m<ipython-input-1-44a9e2f76d57>\u001b[0m in \u001b[0;36m<cell line: 1>\u001b[0;34m()\u001b[0m\n\u001b[0;32m----> 1\u001b[0;31m \u001b[0mtrain_df\u001b[0m\u001b[0;34m[\u001b[0m\u001b[0mtrain_df\u001b[0m\u001b[0;34m[\u001b[0m\u001b[0;34m'Cabin'\u001b[0m\u001b[0;34m]\u001b[0m\u001b[0;34m!=\u001b[0m\u001b[0;34m'nan'\u001b[0m\u001b[0;34m]\u001b[0m\u001b[0;34m.\u001b[0m\u001b[0mmode\u001b[0m\u001b[0;34m(\u001b[0m\u001b[0;34m)\u001b[0m\u001b[0;34m\u001b[0m\u001b[0;34m\u001b[0m\u001b[0m\n\u001b[0m",
            "\u001b[0;31mNameError\u001b[0m: name 'train_df' is not defined"
          ]
        }
      ]
    },
    {
      "cell_type": "markdown",
      "source": [],
      "metadata": {
        "id": "Jc8tmlRptrcf"
      }
    }
  ]
}